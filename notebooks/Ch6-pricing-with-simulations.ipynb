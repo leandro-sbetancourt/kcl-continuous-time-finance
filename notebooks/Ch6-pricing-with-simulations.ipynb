{
 "cells": [
  {
   "cell_type": "code",
   "execution_count": 1,
   "id": "dce15593",
   "metadata": {},
   "outputs": [],
   "source": [
    "import sys\n",
    "sys.path.append('../')\n",
    "import src.utils as utils\n",
    "from importlib import reload\n",
    "import numpy as np\n",
    "import matplotlib.pyplot as plt\n",
    "reload(utils)\n",
    "from math import factorial\n",
    "import scipy.stats as stat"
   ]
  },
  {
   "cell_type": "code",
   "execution_count": 2,
   "id": "30c1f547",
   "metadata": {},
   "outputs": [],
   "source": [
    "import matplotlib.pylab as pylab\n",
    "params = {'legend.fontsize': 'x-large',\n",
    "          'figure.figsize': (15, 5),\n",
    "         'axes.labelsize': 'x-large',\n",
    "         'axes.titlesize':'x-large',\n",
    "         'xtick.labelsize':'x-large',\n",
    "         'ytick.labelsize':'x-large'}\n",
    "pylab.rcParams.update(params)\n",
    "%config InlineBackend.figure_format = \"retina\""
   ]
  },
  {
   "cell_type": "code",
   "execution_count": 3,
   "id": "dd3e6a4e",
   "metadata": {},
   "outputs": [],
   "source": [
    "%load_ext autoreload\n",
    "%autoreload 2"
   ]
  },
  {
   "cell_type": "code",
   "execution_count": 4,
   "id": "c90a6585",
   "metadata": {},
   "outputs": [],
   "source": [
    "np.random.seed(2)"
   ]
  },
  {
   "cell_type": "markdown",
   "id": "069e4a24",
   "metadata": {},
   "source": [
    "## Example 6.1"
   ]
  },
  {
   "cell_type": "code",
   "execution_count": 5,
   "id": "5b080736",
   "metadata": {},
   "outputs": [],
   "source": [
    "nsims = 10_000_000\n",
    "U = np.random.rand(nsims,1) # Uniform values in (0,1)\n",
    "X = 4*U + 1 # Uniform values in (1,5)\n",
    "exact = (5**4 - 1**4)/4 # exact value of the integral\n",
    "simulation = (5-1)* np.sum(X**3) /nsims # approximation "
   ]
  },
  {
   "cell_type": "code",
   "execution_count": 6,
   "id": "b4d94890",
   "metadata": {},
   "outputs": [
    {
     "name": "stdout",
     "output_type": "stream",
     "text": [
      "The exact calculation is:  156.0  and using simulations gives:  156.02194\n"
     ]
    }
   ],
   "source": [
    "print('The exact calculation is: ', np.round(exact, 5), ' and using simulations gives: ', np.round(simulation,5))"
   ]
  },
  {
   "cell_type": "markdown",
   "id": "85ab3843",
   "metadata": {},
   "source": [
    "## Example 6.2\n",
    "#### Let $X\\sim$ exp$(\\lambda)$\n",
    "Then $F_X(x) = 1 - e^{-\\lambda x}$\n",
    "which implies that \n",
    "$F_X^{-1}(y) = -\\frac{\\log(1-y)}{\\lambda}$ for $y\\in(0,1)$\n",
    "\n",
    "We will use $\\lambda = 2.5$ "
   ]
  },
  {
   "cell_type": "code",
   "execution_count": 7,
   "id": "d90466a6",
   "metadata": {},
   "outputs": [],
   "source": [
    "def F_inv_exp(x, l = 2.5):\n",
    "    return -np.log(1.-x) / l"
   ]
  },
  {
   "cell_type": "code",
   "execution_count": 8,
   "id": "8ff0f939",
   "metadata": {},
   "outputs": [],
   "source": [
    "nsims = 10_000_000\n",
    "l = 2.5\n",
    "U = np.random.rand(nsims,1)\n",
    "X = F_inv_exp(U, l)"
   ]
  },
  {
   "cell_type": "markdown",
   "id": "9d15d9c6",
   "metadata": {},
   "source": [
    "We know that an exact calculation yields that \n",
    "$$\\mathbb{E}[X^n] = \\frac{n!}{\\lambda^n}$$"
   ]
  },
  {
   "cell_type": "markdown",
   "id": "d1566899",
   "metadata": {},
   "source": [
    "### We now compute $\\mathbb{E}[X^2]$ "
   ]
  },
  {
   "cell_type": "code",
   "execution_count": 9,
   "id": "363e0437",
   "metadata": {},
   "outputs": [],
   "source": [
    "simulation = np.sum(X**2)/nsims\n",
    "exact = factorial(2)/ (l**2)"
   ]
  },
  {
   "cell_type": "code",
   "execution_count": 10,
   "id": "5704ffa6",
   "metadata": {},
   "outputs": [
    {
     "name": "stdout",
     "output_type": "stream",
     "text": [
      "The exact calculation is:  0.32  and using simulations gives:  0.31988\n"
     ]
    }
   ],
   "source": [
    "print('The exact calculation is: ', np.round(exact, 5), ' and using simulations gives: ', np.round(simulation,5))"
   ]
  },
  {
   "cell_type": "markdown",
   "id": "efcc02d4",
   "metadata": {},
   "source": [
    "### Let's change the parameters\n",
    "Now $\\lambda = 0.5$ and $n=4$"
   ]
  },
  {
   "cell_type": "code",
   "execution_count": 11,
   "id": "9fed61e8",
   "metadata": {},
   "outputs": [],
   "source": [
    "nsims = 10_000_000\n",
    "l = 0.5\n",
    "n = 4\n",
    "U = np.random.rand(nsims,1)\n",
    "X = F_inv_exp(U, l)\n",
    "simulation = np.sum(X**n)/nsims\n",
    "exact = factorial(n)/ (l**n)"
   ]
  },
  {
   "cell_type": "code",
   "execution_count": 12,
   "id": "c5b706dc",
   "metadata": {},
   "outputs": [
    {
     "name": "stdout",
     "output_type": "stream",
     "text": [
      "The exact calculation is:  384.0  and using simulations gives:  385.34918\n"
     ]
    }
   ],
   "source": [
    "print('The exact calculation is: ', np.round(exact, 5), ' and using simulations gives: ', np.round(simulation,5))"
   ]
  },
  {
   "cell_type": "markdown",
   "id": "bda1818b",
   "metadata": {},
   "source": [
    "# Pricing options"
   ]
  },
  {
   "cell_type": "code",
   "execution_count": 13,
   "id": "282d71e6",
   "metadata": {},
   "outputs": [],
   "source": [
    "def simulate_S_T_under_Q(t,T,S,r,sigma,nsims):\n",
    "    Z = np.random.randn(nsims,1)\n",
    "    exponent = (r-0.5*sigma**2)*(T-t) + sigma*np.sqrt(T-t)*Z\n",
    "    return S*np.exp(exponent)"
   ]
  },
  {
   "cell_type": "code",
   "execution_count": 14,
   "id": "028cbd29",
   "metadata": {},
   "outputs": [],
   "source": [
    "t = 0\n",
    "T = 1\n",
    "S = 100\n",
    "r = 0.03\n",
    "sigma = 0.1\n",
    "K = 100\n",
    "nsims = 10_000_000\n",
    "\n",
    "S_T = simulate_S_T_under_Q(t,T,S,r,sigma,nsims)"
   ]
  },
  {
   "cell_type": "code",
   "execution_count": 15,
   "id": "3464c2b5",
   "metadata": {},
   "outputs": [],
   "source": [
    "def computeBlackScholesCallPrice(t,T,S,r,sigma,K):\n",
    "    d1 = (np.log(S/K) + (r + 0.5*sigma**2)*(T-t))/(sigma * np.sqrt(T-t))\n",
    "    d2 = d1 - sigma* np.sqrt(T-t)\n",
    "    return S*stat.norm.cdf(d1) - K*np.exp(-r*(T-t))*stat.norm.cdf(d2)"
   ]
  },
  {
   "cell_type": "code",
   "execution_count": 16,
   "id": "f78d9019",
   "metadata": {},
   "outputs": [],
   "source": [
    "def call_option_payoff(K, S):\n",
    "    return np.maximum(S-K,0)"
   ]
  },
  {
   "cell_type": "code",
   "execution_count": 17,
   "id": "fc26c140",
   "metadata": {},
   "outputs": [],
   "source": [
    "exact = computeBlackScholesCallPrice(t,T,S,r,sigma,K)\n",
    "simulation = np.exp(-r*(T-t))*np.sum(call_option_payoff(K, S_T))/nsims"
   ]
  },
  {
   "cell_type": "code",
   "execution_count": 18,
   "id": "437c539b",
   "metadata": {},
   "outputs": [
    {
     "name": "stdout",
     "output_type": "stream",
     "text": [
      "The exact calculation is:  5.5819  and using simulations gives:  5.5803\n"
     ]
    }
   ],
   "source": [
    "print('The exact calculation is: ', np.round(exact, 4), ' and using simulations gives: ', np.round(simulation,4))"
   ]
  },
  {
   "cell_type": "markdown",
   "id": "a968cb62",
   "metadata": {},
   "source": [
    "# Pricing a down-and-out call option"
   ]
  },
  {
   "cell_type": "markdown",
   "id": "bcc3c627",
   "metadata": {},
   "source": [
    "### Parameters are $S_0 = 100$, $\\mu=0.01$, $r=0.02$, $\\sigma = 0.1$, $K = 100$, $B = 90$, and $T=1$."
   ]
  },
  {
   "cell_type": "code",
   "execution_count": 38,
   "id": "de206dc7",
   "metadata": {},
   "outputs": [],
   "source": [
    "t = 0\n",
    "T = 1\n",
    "S = 100\n",
    "r = 0.03\n",
    "sigma = 0.1\n",
    "K = 100\n",
    "B = 90\n",
    "nsims = 1_000_000"
   ]
  },
  {
   "cell_type": "code",
   "execution_count": 39,
   "id": "6e5ce617",
   "metadata": {},
   "outputs": [],
   "source": [
    "GBM = utils.GeometricBrownianMotion(x0 = S, mu = r, sigma = sigma, T = T, Nt = 100)\n",
    "paths = GBM.simulate(nsims = nsims)"
   ]
  },
  {
   "cell_type": "code",
   "execution_count": 40,
   "id": "a694d40f",
   "metadata": {},
   "outputs": [],
   "source": [
    "payoff = call_option_payoff(K, paths[-1,:]) * (np.min(paths,axis = 0) > B)\n",
    "approximation = np.exp(-r*(T-t))*np.sum(payoff)/nsims "
   ]
  },
  {
   "cell_type": "code",
   "execution_count": 41,
   "id": "b90f1723",
   "metadata": {},
   "outputs": [
    {
     "name": "stdout",
     "output_type": "stream",
     "text": [
      "Approximation is equal to:  5.534140828303611\n"
     ]
    }
   ],
   "source": [
    "print('Approximation is equal to: ', approximation)"
   ]
  }
 ],
 "metadata": {
  "kernelspec": {
   "display_name": "Python 3 (ipykernel)",
   "language": "python",
   "name": "python3"
  },
  "language_info": {
   "codemirror_mode": {
    "name": "ipython",
    "version": 3
   },
   "file_extension": ".py",
   "mimetype": "text/x-python",
   "name": "python",
   "nbconvert_exporter": "python",
   "pygments_lexer": "ipython3",
   "version": "3.9.7"
  }
 },
 "nbformat": 4,
 "nbformat_minor": 5
}
